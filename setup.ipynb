{
 "cells": [
  {
   "cell_type": "code",
   "execution_count": 1,
   "metadata": {},
   "outputs": [],
   "source": [
    "from huggingface_hub import cached_download"
   ]
  },
  {
   "cell_type": "code",
   "execution_count": 2,
   "metadata": {},
   "outputs": [],
   "source": [
    "import torch\n",
    "import diffusers\n",
    "import transformers\n",
    "import cv2\n",
    "import einops\n",
    "import omegaconf\n",
    "import pytorch_lightning as pl\n"
   ]
  },
  {
   "cell_type": "code",
   "execution_count": 3,
   "metadata": {},
   "outputs": [
    {
     "name": "stdout",
     "output_type": "stream",
     "text": [
      "PyTorch Version: 1.9.0+cpu\n",
      "Diffusers Version: 0.15.0\n",
      "Transformers Version: 4.28.0\n",
      "OpenCV Version: 4.7.0\n",
      "Einops Version: 0.6.1\n",
      "OmegaConf Version: 2.3.0\n",
      "PyTorch Lightning Version: 1.4.0\n"
     ]
    }
   ],
   "source": [
    "\n",
    "print(\"PyTorch Version:\", torch.__version__)\n",
    "print(\"Diffusers Version:\", diffusers.__version__)\n",
    "print(\"Transformers Version:\", transformers.__version__)\n",
    "print(\"OpenCV Version:\", cv2.__version__)\n",
    "print(\"Einops Version:\", einops.__version__)\n",
    "print(\"OmegaConf Version:\", omegaconf.__version__)\n",
    "print(\"PyTorch Lightning Version:\", pl.__version__)\n"
   ]
  }
 ],
 "metadata": {
  "kernelspec": {
   "display_name": "diffusion",
   "language": "python",
   "name": "python3"
  },
  "language_info": {
   "codemirror_mode": {
    "name": "ipython",
    "version": 3
   },
   "file_extension": ".py",
   "mimetype": "text/x-python",
   "name": "python",
   "nbconvert_exporter": "python",
   "pygments_lexer": "ipython3",
   "version": "3.9.21"
  }
 },
 "nbformat": 4,
 "nbformat_minor": 2
}
